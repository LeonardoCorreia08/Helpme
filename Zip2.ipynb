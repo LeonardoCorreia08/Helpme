{
 "cells": [
  {
   "cell_type": "markdown",
   "id": "f1d1e007",
   "metadata": {},
   "source": [
    "1) No Colab, primeiro, certifique-se de que a pasta \"exemplo\" existe e contém os arquivos que deseja baixar.\n",
    "\n",
    "2) Execute o seguinte comando para criar um arquivo ZIP da pasta \"exemplo\":"
   ]
  },
  {
   "cell_type": "code",
   "execution_count": null,
   "id": "4984d5fb",
   "metadata": {},
   "outputs": [],
   "source": [
    "!zip -r Exemplo.zip exemplo\n"
   ]
  },
  {
   "cell_type": "markdown",
   "id": "883ca5a7",
   "metadata": {},
   "source": [
    "Isso criará um arquivo ZIP chamado \"Exemplo.zip\" que contém todos os arquivos e subpastas da pasta \"Exemplo\".\n",
    "\n",
    "Agora você precisa baixar o arquivo ZIP gerado. Para fazer isso, você pode usar o código a seguir para criar um link de download:"
   ]
  },
  {
   "cell_type": "code",
   "execution_count": null,
   "id": "c5b7aaf5",
   "metadata": {},
   "outputs": [],
   "source": [
    "from google.colab import files\n",
    "\n",
    "# Crie um link de download para o arquivo ZIP\n",
    "files.download(\"Exemplo.zip\")\n"
   ]
  }
 ],
 "metadata": {
  "kernelspec": {
   "display_name": "Python 3 (ipykernel)",
   "language": "python",
   "name": "python3"
  },
  "language_info": {
   "codemirror_mode": {
    "name": "ipython",
    "version": 3
   },
   "file_extension": ".py",
   "mimetype": "text/x-python",
   "name": "python",
   "nbconvert_exporter": "python",
   "pygments_lexer": "ipython3",
   "version": "3.9.13"
  }
 },
 "nbformat": 4,
 "nbformat_minor": 5
}
