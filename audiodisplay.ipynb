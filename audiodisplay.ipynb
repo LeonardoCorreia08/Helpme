{
 "cells": [
  {
   "cell_type": "code",
   "execution_count": null,
   "id": "7b0b2e0d",
   "metadata": {},
   "outputs": [],
   "source": [
    "from google.colab import files\n",
    "\n",
    "# Faça o upload do arquivo de áudio\n",
    "uploaded = files.upload()\n",
    "\n",
    "\n",
    "from IPython.display import Audio\n",
    "\n",
    "# Substitua 'audio.wav' pelo nome do arquivo de áudio que você fez o upload\n",
    "audio_file = 'audio.wav'\n",
    "\n",
    "# Exibe o widget de áudio para reproduzir o arquivo\n",
    "Audio(audio_file)"
   ]
  }
 ],
 "metadata": {
  "kernelspec": {
   "display_name": "Python 3 (ipykernel)",
   "language": "python",
   "name": "python3"
  },
  "language_info": {
   "codemirror_mode": {
    "name": "ipython",
    "version": 3
   },
   "file_extension": ".py",
   "mimetype": "text/x-python",
   "name": "python",
   "nbconvert_exporter": "python",
   "pygments_lexer": "ipython3",
   "version": "3.9.13"
  }
 },
 "nbformat": 4,
 "nbformat_minor": 5
}
