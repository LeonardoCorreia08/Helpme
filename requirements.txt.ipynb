{
 "cells": [
  {
   "cell_type": "markdown",
   "id": "7c28d6a8",
   "metadata": {},
   "source": [
    "Instale o pacote pipreqs (caso ainda não esteja instalado):\n",
    "Você pode usar o pip para instalar o pacote pipreqs, que é uma ferramenta útil para criar automaticamente um arquivo 'requirements.txt' com base nas dependências usadas em seu projeto. Execute o seguinte comando em uma célula do Colab para instalá-lo:\n",
    "\n"
   ]
  },
  {
   "cell_type": "code",
   "execution_count": null,
   "id": "49513d42",
   "metadata": {},
   "outputs": [],
   "source": [
    "!pip install pipreqs\n"
   ]
  },
  {
   "cell_type": "markdown",
   "id": "b115d4a0",
   "metadata": {},
   "source": [
    "Gerar o arquivo 'requirements.txt':\n",
    "Após instalar o pipreqs, você pode usá-lo para gerar o arquivo 'requirements.txt' para o seu projeto. Vá para o diretório onde seu projeto está localizado no Colab (normalmente, o diretório atual é /content) e execute o seguinte comando:"
   ]
  },
  {
   "cell_type": "code",
   "execution_count": null,
   "id": "f928073d",
   "metadata": {},
   "outputs": [],
   "source": [
    "!pipreqs . "
   ]
  },
  {
   "cell_type": "markdown",
   "id": "030e158b",
   "metadata": {},
   "source": [
    "O ponto . indica que você deseja gerar o arquivo 'requirements.txt' para o diretório atual e suas subpastas.\n",
    "\n",
    "Visualizar o arquivo gerado:\n",
    "Após a execução do comando acima, o arquivo 'requirements.txt' será gerado no diretório atual. Você pode visualizar o conteúdo do arquivo executando o seguinte comando:"
   ]
  }
 ],
 "metadata": {
  "kernelspec": {
   "display_name": "Python 3 (ipykernel)",
   "language": "python",
   "name": "python3"
  },
  "language_info": {
   "codemirror_mode": {
    "name": "ipython",
    "version": 3
   },
   "file_extension": ".py",
   "mimetype": "text/x-python",
   "name": "python",
   "nbconvert_exporter": "python",
   "pygments_lexer": "ipython3",
   "version": "3.9.13"
  }
 },
 "nbformat": 4,
 "nbformat_minor": 5
}
