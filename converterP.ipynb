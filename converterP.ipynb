{
 "cells": [
  {
   "cell_type": "code",
   "execution_count": null,
   "id": "730ccd5b",
   "metadata": {},
   "outputs": [],
   "source": [
    "from pydub import AudioSegment\n",
    "import os\n",
    "\n",
    "# Verifique se a pasta \"exemplo\" existe e, se não, crie-a\n",
    "output_folder = \"exemplo\"\n",
    "if not os.path.exists(output_folder):\n",
    "    os.mkdir(output_folder)\n",
    "\n",
    "# Diretório de entrada (pasta \"dia\") e saída (pasta \"exemplo\")\n",
    "input_folder = \"dia\"\n",
    "output_folder = \"exemplo\"\n",
    "\n",
    "# Loop pelos arquivos .ogg na pasta de entrada\n",
    "for filename in os.listdir(input_folder):\n",
    "    if filename.endswith(\".ogg\"):\n",
    "        # Caminho completo para o arquivo de entrada\n",
    "        input_file_path = os.path.join(input_folder, filename)\n",
    "\n",
    "        # Carregue o arquivo .ogg\n",
    "        audio = AudioSegment.from_file(input_file_path, format=\"ogg\")\n",
    "\n",
    "        # Crie o nome do arquivo .wav de saída\n",
    "        output_file_name = os.path.splitext(filename)[0] + \".wav\"\n",
    "        output_file_path = os.path.join(output_folder, output_file_name)\n",
    "\n",
    "        # Salve o arquivo .wav na pasta \"Sana\"\n",
    "        audio.export(output_file_path, format=\"wav\")\n",
    "\n",
    "        # Confirmação de conversão\n",
    "        print(f\"Convertido: {input_file_path} -> {output_file_path}\")\n"
   ]
  }
 ],
 "metadata": {
  "kernelspec": {
   "display_name": "Python 3 (ipykernel)",
   "language": "python",
   "name": "python3"
  },
  "language_info": {
   "codemirror_mode": {
    "name": "ipython",
    "version": 3
   },
   "file_extension": ".py",
   "mimetype": "text/x-python",
   "name": "python",
   "nbconvert_exporter": "python",
   "pygments_lexer": "ipython3",
   "version": "3.9.13"
  }
 },
 "nbformat": 4,
 "nbformat_minor": 5
}
