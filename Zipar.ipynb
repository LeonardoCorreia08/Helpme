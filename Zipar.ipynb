{
 "cells": [
  {
   "cell_type": "code",
   "execution_count": null,
   "id": "c7bb9742",
   "metadata": {},
   "outputs": [],
   "source": [
    "import os\n",
    "import zipfile\n",
    "\n",
    "# Especifica o nome da pasta a ser compactada (troque exemplo por sua pasta)\n",
    "folder_name = 'exemplo'\n",
    "\n",
    "# Especifica o nome do arquivo ZIP de saída\n",
    "zip_filename = 'arquivo.zip'\n",
    "\n",
    "# Cria o arquivo ZIP e adiciona os arquivos da pasta à ele\n",
    "with zipfile.ZipFile(zip_filename, 'w', zipfile.ZIP_DEFLATED) as zipf:\n",
    "    # Adiciona todos os arquivos e pastas dentro da pasta especificada\n",
    "    for root, dirs, files in os.walk(folder_name):\n",
    "        for file in files:\n",
    "            file_path = os.path.join(root, file)\n",
    "            zipf.write(file_path, os.path.relpath(file_path, folder_name))\n",
    "\n",
    "print(f'A pasta \"{folder_name}\" foi compactada em \"{zip_filename}\"')\n"
   ]
  }
 ],
 "metadata": {
  "kernelspec": {
   "display_name": "Python 3 (ipykernel)",
   "language": "python",
   "name": "python3"
  },
  "language_info": {
   "codemirror_mode": {
    "name": "ipython",
    "version": 3
   },
   "file_extension": ".py",
   "mimetype": "text/x-python",
   "name": "python",
   "nbconvert_exporter": "python",
   "pygments_lexer": "ipython3",
   "version": "3.9.13"
  }
 },
 "nbformat": 4,
 "nbformat_minor": 5
}
